{
  "cells": [
    {
      "cell_type": "markdown",
      "metadata": {
        "id": "07gK_O8hqgAA"
      },
      "source": [
        "#This notebook uses Gemini 1.5 Flash and covers different parameters such as:\n",
        "##* Temperature\n",
        "##* Max output length\n",
        "##* Token counting\n"
      ]
    },
    {
      "cell_type": "markdown",
      "metadata": {
        "id": "bOWGftEhmq5z"
      },
      "source": [
        "##Importing and setting up API key\n",
        "\n",
        "###To run this cell, your API key needs to be stored in the Colab Secret named as GOOGLE_API_KEY\n",
        "###To get the key, go to ai.google.dev"
      ]
    },
    {
      "cell_type": "code",
      "execution_count": 1,
      "metadata": {
        "id": "qEIr5uEPqBxd"
      },
      "outputs": [],
      "source": [
        "import google.generativeai as genai"
      ]
    },
    {
      "cell_type": "code",
      "execution_count": 3,
      "metadata": {
        "id": "K4c0v1wjmt_A"
      },
      "outputs": [],
      "source": [
        "from google.colab import userdata\n",
        "\n",
        "GOOGLE_API_KEY = userdata.get('GOOGLE_API_KEY')\n",
        "genai.configure(api_key= GOOGLE_API_KEY)"
      ]
    },
    {
      "cell_type": "markdown",
      "metadata": {
        "id": "KCqHRNq6mjb0"
      },
      "source": [
        "##Model Temperature"
      ]
    },
    {
      "cell_type": "code",
      "execution_count": 11,
      "metadata": {
        "colab": {
          "base_uri": "https://localhost:8080/",
          "height": 52
        },
        "id": "_TBELaz5mnKL",
        "outputId": "549c6a01-b656-409f-d319-53e68ef9b41d"
      },
      "outputs": [
        {
          "name": "stdout",
          "output_type": "stream",
          "text": [
            "For a fun night out in Dubai, experience the vibrant nightlife with a rooftop bar crawl, enjoying stunning city views and delicious cocktails. \n",
            "\n"
          ]
        }
      ],
      "source": [
        "version = 'models/gemini-1.5-flash'\n",
        "model = genai.GenerativeModel(version)\n",
        "\n",
        "prompt = \"In one sentence, help me choose a fun way to spend the night as a software engineer in dubai\"\n",
        "response = model.generate_content(prompt)\n",
        "print(response.text)"
      ]
    },
    {
      "cell_type": "markdown",
      "metadata": {
        "id": "F3kDKZ0orDwl"
      },
      "source": [
        "###Default temperature 1\n",
        "####Can be creative yet repetitive"
      ]
    },
    {
      "cell_type": "code",
      "execution_count": 9,
      "metadata": {
        "colab": {
          "base_uri": "https://localhost:8080/",
          "height": 211
        },
        "id": "Uniueyx3lYd4",
        "outputId": "9e0ec96c-6afc-4d34-ea82-28cc17cb1a75"
      },
      "outputs": [
        {
          "name": "stdout",
          "output_type": "stream",
          "text": [
            "Head to the rooftop bar at The Address Downtown Dubai for stunning views and delicious cocktails, embracing the city's vibrant nightlife as a software engineer. \n",
            "\n",
            "Head to La Mer for a vibrant night market, delicious street food, and a chance to admire the stunning waterfront views. \n",
            "\n",
            "For a fun night out in Dubai as a software engineer, head to a trendy bar with a vibrant atmosphere and connect with other tech professionals over drinks and conversation. \n",
            "\n",
            "For a fun night in Dubai, trade your keyboard for a shisha pipe at a vibrant souk with live music, savoring exotic flavors and vibrant atmosphere. \n",
            "\n",
            "For a fun night out in Dubai, consider grabbing drinks and shisha at a rooftop bar with panoramic city views. \n",
            "\n"
          ]
        }
      ],
      "source": [
        "outputs = []\n",
        "prompt = \"In one sentence, help me choose a fun way to spend the night as a software engineer in dubai\"\n",
        "for i in range(5):\n",
        "  response = model.generate_content(prompt)\n",
        "  outputs.append(response.text)\n",
        "  print(response.text)\n",
        "\n",
        "\n",
        "  #As the temperature is 1 by default, the results are less random/creative and are more repetitive"
      ]
    },
    {
      "cell_type": "markdown",
      "metadata": {
        "id": "1P4671GKrHKm"
      },
      "source": [
        "###Low temperature 0\n",
        "####No creativity, very predictable, identical results"
      ]
    },
    {
      "cell_type": "code",
      "execution_count": 12,
      "metadata": {
        "colab": {
          "base_uri": "https://localhost:8080/",
          "height": 191
        },
        "id": "LW-juSMSpUTP",
        "outputId": "41dbc530-105e-4051-81d0-a663790fa4d1"
      },
      "outputs": [
        {
          "name": "stdout",
          "output_type": "stream",
          "text": [
            "For a fun night out in Dubai, consider exploring the vibrant nightlife scene with its rooftop bars, live music venues, and traditional souks. \n",
            "\n",
            "For a fun night out in Dubai, consider exploring the vibrant nightlife scene with its rooftop bars, live music venues, and traditional souks. \n",
            "\n",
            "For a fun night out in Dubai, consider exploring the vibrant nightlife scene with its rooftop bars, live music venues, and traditional souks. \n",
            "\n",
            "For a fun night out in Dubai, consider exploring the vibrant nightlife scene with its rooftop bars, live music venues, and traditional souks. \n",
            "\n",
            "For a fun night out in Dubai, consider exploring the vibrant nightlife scene with its rooftop bars, live music venues, and traditional souks. \n",
            "\n"
          ]
        }
      ],
      "source": [
        "new_outputs = []\n",
        "low_temp_model = genai.GenerativeModel(version, generation_config={\"temperature\": 0})\n",
        "prompt = \"In one sentence, help me choose a fun way to spend the night as a software engineer in dubai\"\n",
        "for i in range(5):\n",
        "  response = low_temp_model.generate_content(prompt)\n",
        "  new_outputs.append(response.text)\n",
        "  print(response.text)\n",
        "\n",
        "  #As the temperature is set to 0, the results are identical and repetitive"
      ]
    },
    {
      "cell_type": "markdown",
      "metadata": {
        "id": "MJk1C6qHrJ6u"
      },
      "source": [
        "###High temperature 2\n",
        "####More creative, less predictable"
      ]
    },
    {
      "cell_type": "code",
      "execution_count": 13,
      "metadata": {
        "colab": {
          "base_uri": "https://localhost:8080/",
          "height": 191
        },
        "id": "2xtTvEpPqmhV",
        "outputId": "7c36f79f-17c5-4695-8546-390bbae86fdc"
      },
      "outputs": [
        {
          "name": "stdout",
          "output_type": "stream",
          "text": [
            "Head to a lively rooftop bar in Dubai Marina for panoramic city views and delicious cocktails while networking with fellow tech enthusiasts. \n",
            "\n",
            "Escape the desert heat and enjoy a lively rooftop bar with stunning city views, delicious food, and an ice-cold drink. 🍹🏙️\n",
            "\n",
            "For a fun night out in Dubai, enjoy a lively rooftop bar with stunning city views, vibrant music, and delicious cocktails. \n",
            "\n",
            "For a fun Dubai night out, grab dinner at a rooftop restaurant overlooking the city, then hit up a lively bar with live music and shisha. \n",
            "\n",
            "Head to the rooftop of The Dubai Frame for breathtaking city views and a relaxing break from coding. \n",
            "\n"
          ]
        }
      ],
      "source": [
        "new_outputs = []\n",
        "high_temp_model = genai.GenerativeModel(version, generation_config={\"temperature\": 2})\n",
        "prompt = \"In one sentence, help me choose a fun way to spend the night as a software engineer in dubai\"\n",
        "for i in range(5):\n",
        "  response = high_temp_model.generate_content(prompt)\n",
        "  new_outputs.append(response.text)\n",
        "  print(response.text)\n",
        "\n",
        "  #As the temperature is set to 2 (max), the results vary and are unpredictable"
      ]
    },
    {
      "cell_type": "markdown",
      "metadata": {
        "id": "R-Gw-0DMrbUI"
      },
      "source": [
        "##Token count"
      ]
    },
    {
      "cell_type": "code",
      "execution_count": 14,
      "metadata": {
        "colab": {
          "base_uri": "https://localhost:8080/",
          "height": 34
        },
        "id": "ESRbjJ2sq4ug",
        "outputId": "82be8663-03e0-4536-d28e-b636d107be6b"
      },
      "outputs": [
        {
          "name": "stdout",
          "output_type": "stream",
          "text": [
            "For a fun night out\n"
          ]
        }
      ],
      "source": [
        "#Specifying the output to only use 5 tokens\n",
        "short_response_model = genai.GenerativeModel(version, generation_config={\"max_output_tokens\": 5})\n",
        "prompt = \"In one sentence, help me choose a fun way to spend the night as a software engineer in dubai\"\n",
        "response = short_response_model.generate_content(prompt)\n",
        "print(response.text)"
      ]
    },
    {
      "cell_type": "code",
      "execution_count": 18,
      "metadata": {
        "colab": {
          "base_uri": "https://localhost:8080/",
          "height": 191
        },
        "id": "zFj65tVktPKJ",
        "outputId": "ac2373ac-9028-4e4b-cd31-13b122565cf3"
      },
      "outputs": [
        {
          "name": "stdout",
          "output_type": "stream",
          "text": [
            "Whispering secrets through the trees,\n",
            "A restless spirit, never at ease,\n",
            "It dances with leaves, a playful tease,\n",
            "Then roars and howls, a wild decree,\n",
            "The wind, a force both fierce and free. \n",
            "\n",
            "Tokens in prompt: total_tokens: 10\n",
            "\n",
            "Estimated tokens in response/output: total_tokens: 50\n",
            "\n"
          ]
        }
      ],
      "source": [
        "prompt = \"Write a poem about the wind in 5 lines\"\n",
        "response = model.generate_content(prompt)\n",
        "print(response.text)\n",
        "\n",
        "prompt_tokens = model.count_tokens(prompt)\n",
        "output_tokens = model.count_tokens(response.text)\n",
        "print(f'Tokens in prompt: {prompt_tokens}')\n",
        "print(f'Estimated tokens in response/output: {output_tokens}')"
      ]
    }
  ],
  "metadata": {
    "colab": {
      "provenance": []
    },
    "kernelspec": {
      "display_name": "Python 3",
      "name": "python3"
    },
    "language_info": {
      "name": "python"
    }
  },
  "nbformat": 4,
  "nbformat_minor": 0
}
